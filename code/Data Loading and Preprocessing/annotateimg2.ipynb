{
 "cells": [
  {
   "cell_type": "code",
   "execution_count": 14,
   "metadata": {},
   "outputs": [],
   "source": [
    "import os\n",
    "import shutil\n",
    "import pandas as pd\n",
    "import pydicom\n",
    "from PIL import Image, ImageDraw\n",
    "import matplotlib.pyplot as plt\n",
    "import cv2\n",
    "import numpy as np"
   ]
  },
  {
   "cell_type": "code",
   "execution_count": 15,
   "metadata": {},
   "outputs": [],
   "source": [
    "# Path to the Excel file containing the MRI coordinates\n",
    "targeted_bx_path = '/Users/arjunmoorthy/Desktop/Research_Capstone/targeted_biopsy_patients.xlsx'\n",
    "\n",
    "# Directory containing the DICOM images\n",
    "dicom_dir_path = '/Users/arjunmoorthy/Desktop/targeted_bx_dicoms'\n",
    "\n",
    "# Load the Excel file\n",
    "targeted_df = pd.read_excel(targeted_bx_path)"
   ]
  },
  {
   "cell_type": "code",
   "execution_count": null,
   "metadata": {},
   "outputs": [],
   "source": [
    "patient_id = 'Prostate-MRI-US-Biopsy-0003'  # Test Patient ID\n",
    "\n",
    "# Path to the patient's DICOM directory\n",
    "patient_dicom_dir = os.path.join(dicom_dir_path, patient_id)\n",
    "print(f\"Searching in: {patient_dicom_dir}\")  \n",
    "\n",
    "z_coords = []\n",
    "output_dir_path = os.path.join(dicom_dir_path, 'targeted_bx_slices_bothz')\n",
    "# Walk through all subdirectories in the patient's DICOM directory\n",
    "for root, dirs, files in os.walk(patient_dicom_dir):\n",
    "    for file in files:\n",
    "        if file.endswith(\".dcm\"):\n",
    "            file_path = os.path.join(root, file)\n",
    "            print(f\"Reading DICOM: {file_path}\")  \n",
    "            ds = pydicom.dcmread(file_path)\n",
    "\n",
    "            # Extract the z-coordinate\n",
    "            if 'ImagePositionPatient' in ds:\n",
    "                dicom_z_coord = ds.ImagePositionPatient[2]\n",
    "                z_coords.append(round(dicom_z_coord, 2)) \n",
    "                print(f\"Found z-coordinate: {dicom_z_coord}\")  \n",
    "\n",
    "# Check if any z-coordinates were found and print them\n",
    "if z_coords:\n",
    "    print(f\"Z-coordinates for patient {patient_id}: {z_coords}\")\n",
    "else:\n",
    "    print(\"No z-coordinates found.\")\n"
   ]
  },
  {
   "cell_type": "code",
   "execution_count": null,
   "metadata": {},
   "outputs": [],
   "source": [
    "# Assuming dicom_dir_path and targeted_bx_path are defined\n",
    "output_dir_path = os.path.join(dicom_dir_path, 'targeted_bx_slices_bothz')\n",
    "\n",
    "# Ensure the output directory exists\n",
    "os.makedirs(output_dir_path, exist_ok=True)\n",
    "\n",
    "# Load the Excel file\n",
    "df = pd.read_excel(targeted_bx_path)\n",
    "\n",
    "# Dictionary of Dicom data\n",
    "closest_slices = {}  # Format: {z_coord: (file_path, [list of (x,y) coords], min_diff)}\n",
    "\n",
    "def find_and_copy_closest_slices(patient_id, series_id, bx_points):\n",
    "    patient_dicom_dir = os.path.join(dicom_dir_path, patient_id)\n",
    "    # closest_slices = {}  # Format: {z_coord: (file_path, [list of (x,y) coords], min_diff)}\n",
    "\n",
    "    # Walk through all subdirectories of the patient's DICOM directory\n",
    "    for root, dirs, files in os.walk(patient_dicom_dir):\n",
    "        for file in files:\n",
    "            if file.endswith(\".dcm\"):\n",
    "                file_path = os.path.join(root, file)\n",
    "                ds = pydicom.dcmread(file_path)\n",
    "                if ds.SeriesInstanceUID == series_id:\n",
    "                    if 'ImagePositionPatient' in ds:\n",
    "                        dicom_z_coord = ds.ImagePositionPatient[2]\n",
    "                        for z_coord, xy_coords in bx_points.items():\n",
    "                            diff = abs(dicom_z_coord - z_coord)\n",
    "\n",
    "                            if z_coord not in closest_slices or diff < closest_slices[z_coord][2]:\n",
    "                                closest_slices[z_coord] = (file_path, [xy_coords], diff)\n",
    "                            elif diff == closest_slices[z_coord][2]:\n",
    "                                closest_slices[z_coord][1].append(xy_coords)  # Add xy_coords if the diff is equal\n",
    "    \n",
    "    # Copy the closest slices to the output directory\n",
    "    output_patient_dir = os.path.join(output_dir_path, patient_id)\n",
    "    os.makedirs(output_patient_dir, exist_ok=True)\n",
    "    \n",
    "    for z_coord, (file_path, xy_coords_list, _) in closest_slices.items():\n",
    "        shutil.copy(file_path, output_patient_dir)\n",
    "        print(f\"Copied: {file_path} to {output_patient_dir} for z={z_coord} with xy points {xy_coords_list}\")\n",
    "    \n",
    "    return closest_slices\n",
    "\n",
    "targeted_patient_xy_info = []\n",
    "\n",
    "# Convert DataFrame rows into a suitable structure for processing\n",
    "for index, row in df.iterrows():\n",
    "    patient_id = str(row['Patient Number'])\n",
    "    series_id = str(row['Series Instance UID (MRI)'])\n",
    "    if patient_id=='Prostate-MRI-US-Biopsy-0005': break\n",
    "    bx_points = {\n",
    "        row['Bx Tip Z (MRI Coord)']: (row['Bx Tip X (MRI Coord)'], row['Bx Tip Y (MRI Coord)']),\n",
    "        row['Bx Base Z (MRI Coord)']: (row['Bx Base X (MRI Coord)'], row['Bx Base Y (MRI Coord)'])\n",
    "    }\n",
    "    data = find_and_copy_closest_slices(patient_id, series_id, bx_points)\n",
    "\n",
    "    targeted_patient_xy_info.append(data)\n",
    "\n",
    "\n"
   ]
  },
  {
   "cell_type": "code",
   "execution_count": 19,
   "metadata": {},
   "outputs": [],
   "source": [
    "# Folder for segmentations\n",
    "seg_folder = '/Users/arjunmoorthy/Desktop/Research_Capstone/Image Data/Prostate-MRI-US-Biopsy'"
   ]
  },
  {
   "cell_type": "code",
   "execution_count": 35,
   "metadata": {},
   "outputs": [
    {
     "data": {
      "text/plain": [
       "'Prostate-MRI-US-Biopsy-0001'"
      ]
     },
     "execution_count": 35,
     "metadata": {},
     "output_type": "execute_result"
    }
   ],
   "source": [
    "data[0].split('/')[5]"
   ]
  },
  {
   "cell_type": "code",
   "execution_count": 36,
   "metadata": {},
   "outputs": [],
   "source": [
    "data_new =  {}\n",
    "for z_coord,data in targeted_patient_xy_info[0].items():\n",
    "    # print(z_coord,data)\n",
    "    img_path = data[0]\n",
    "    patient_name = data[0].split('/')[5]\n",
    "    img = pydicom.dcmread(img_path)\n",
    "    imagePositionPatient = img.ImagePositionPatient\n",
    "    study_id = img.StudyInstanceUID\n",
    "    PixelSpacing = img.PixelSpacing\n",
    "    instance_number = int(img.InstanceNumber)\n",
    "    lps_x,lps_y = data[1][0]\n",
    "    voxel_cord_x = round((lps_x-imagePositionPatient[0])/PixelSpacing[0])\n",
    "    voxel_cord_y = round((lps_y-imagePositionPatient[1])/PixelSpacing[1])\n",
    "    voxel_cord = [voxel_cord_x,voxel_cord_y,instance_number]\n",
    "    \n",
    "    tag_data = f'{patient_name}_{instance_number}'\n",
    "    \n",
    "    dicom_seg_path = f'{seg_folder}/{patient_name}/{study_id}'\n",
    "    lesion_path = list(filter(lambda x:('lesion' in x) & ('surface' not in x),os.listdir(dicom_seg_path)))[0]\n",
    "    lesion_image_path = f'{dicom_seg_path}/{lesion_path}'\n",
    "    prostate_path = list(filter(lambda x:(x.endswith('prostate.dcm')) & ('surface' not in x),os.listdir(dicom_seg_path)))[0]               \n",
    "    prostate_image_path = f'{dicom_seg_path}/{prostate_path}'\n",
    "    \n",
    "    prostate = pydicom.dcmread(prostate_image_path)\n",
    "    prostate_arr = prostate.pixel_array\n",
    "    prostate_arr = np.transpose(prostate_arr,(1,2,0)) #transpose to bring the axial axis to last position\n",
    "\n",
    "    lesion = pydicom.dcmread(lesion_image_path)\n",
    "    lesion_arr = lesion.pixel_array\n",
    "    lesion_arr = np.transpose(lesion_arr,(1,2,0)) #transpose to bring the axial axis to last position\n",
    "    \n",
    "    seg = prostate_arr[:,:,instance_number-1]\n",
    "    les = lesion_arr[:,:,instance_number-1]\n",
    "    \n",
    "    arr = img.pixel_array\n",
    "    arr = np.stack((arr,) * 3, axis=-1)\n",
    "    contours, _ = cv2.findContours(seg, cv2.RETR_EXTERNAL, cv2.CHAIN_APPROX_SIMPLE) #function to extract the contours from the given mask file\n",
    "    contours2, _ = cv2.findContours(les, cv2.RETR_EXTERNAL, cv2.CHAIN_APPROX_SIMPLE) #function to extract the contours from the given mask file\n",
    "\n",
    "    arr = cv2.drawContours(arr, contours, -1, (0, 255, 0), 2) #overlay the contour on the image\n",
    "    arr = cv2.drawContours(arr, contours2, -1, (0, 0, 255), 2) #overlay the contour on the image\n",
    "\n",
    "    add_data = {'path':img_path,'voxel_coords':voxel_cord,'instance_number':instance_number,'arr_img':arr}\n",
    "    \n",
    "    if tag_data not in data_new:\n",
    "        data_new[tag_data] = [add_data]\n",
    "    else:\n",
    "        data_new[tag_data].append(add_data)\n",
    "        "
   ]
  },
  {
   "cell_type": "code",
   "execution_count": null,
   "metadata": {},
   "outputs": [],
   "source": [
    "data_new"
   ]
  },
  {
   "cell_type": "code",
   "execution_count": 40,
   "metadata": {},
   "outputs": [
    {
     "name": "stdout",
     "output_type": "stream",
     "text": [
      "Image saved to /Users/arjunmoorthy/Desktop/annotated_imgs/Prostate-MRI-US-Biopsy-0001_23.png\n",
      "Image saved to /Users/arjunmoorthy/Desktop/annotated_imgs/Prostate-MRI-US-Biopsy-0001_15.png\n",
      "Image saved to /Users/arjunmoorthy/Desktop/annotated_imgs/Prostate-MRI-US-Biopsy-0001_24.png\n",
      "Image saved to /Users/arjunmoorthy/Desktop/annotated_imgs/Prostate-MRI-US-Biopsy-0001_16.png\n",
      "Image saved to /Users/arjunmoorthy/Desktop/annotated_imgs/Prostate-MRI-US-Biopsy-0001_20.png\n",
      "Image saved to /Users/arjunmoorthy/Desktop/annotated_imgs/Prostate-MRI-US-Biopsy-0001_13.png\n",
      "Image saved to /Users/arjunmoorthy/Desktop/annotated_imgs/Prostate-MRI-US-Biopsy-0001_13.png\n",
      "Image saved to /Users/arjunmoorthy/Desktop/annotated_imgs/Prostate-MRI-US-Biopsy-0001_14.png\n",
      "Image saved to /Users/arjunmoorthy/Desktop/annotated_imgs/Prostate-MRI-US-Biopsy-0001_35.png\n",
      "Image saved to /Users/arjunmoorthy/Desktop/annotated_imgs/Prostate-MRI-US-Biopsy-0001_27.png\n",
      "Image saved to /Users/arjunmoorthy/Desktop/annotated_imgs/Prostate-MRI-US-Biopsy-0001_31.png\n",
      "Image saved to /Users/arjunmoorthy/Desktop/annotated_imgs/Prostate-MRI-US-Biopsy-0001_22.png\n",
      "Image saved to /Users/arjunmoorthy/Desktop/annotated_imgs/Prostate-MRI-US-Biopsy-0002_36.png\n",
      "Image saved to /Users/arjunmoorthy/Desktop/annotated_imgs/Prostate-MRI-US-Biopsy-0002_36.png\n",
      "Image saved to /Users/arjunmoorthy/Desktop/annotated_imgs/Prostate-MRI-US-Biopsy-0002_36.png\n",
      "Image saved to /Users/arjunmoorthy/Desktop/annotated_imgs/Prostate-MRI-US-Biopsy-0002_30.png\n",
      "Image saved to /Users/arjunmoorthy/Desktop/annotated_imgs/Prostate-MRI-US-Biopsy-0002_30.png\n",
      "Image saved to /Users/arjunmoorthy/Desktop/annotated_imgs/Prostate-MRI-US-Biopsy-0002_35.png\n",
      "Image saved to /Users/arjunmoorthy/Desktop/annotated_imgs/Prostate-MRI-US-Biopsy-0002_35.png\n",
      "Image saved to /Users/arjunmoorthy/Desktop/annotated_imgs/Prostate-MRI-US-Biopsy-0002_35.png\n",
      "Image saved to /Users/arjunmoorthy/Desktop/annotated_imgs/Prostate-MRI-US-Biopsy-0002_29.png\n",
      "Image saved to /Users/arjunmoorthy/Desktop/annotated_imgs/Prostate-MRI-US-Biopsy-0002_37.png\n",
      "Image saved to /Users/arjunmoorthy/Desktop/annotated_imgs/Prostate-MRI-US-Biopsy-0002_37.png\n",
      "Image saved to /Users/arjunmoorthy/Desktop/annotated_imgs/Prostate-MRI-US-Biopsy-0002_31.png\n",
      "Image saved to /Users/arjunmoorthy/Desktop/annotated_imgs/Prostate-MRI-US-Biopsy-0002_43.png\n",
      "Image saved to /Users/arjunmoorthy/Desktop/annotated_imgs/Prostate-MRI-US-Biopsy-0002_21.png\n",
      "Image saved to /Users/arjunmoorthy/Desktop/annotated_imgs/Prostate-MRI-US-Biopsy-0002_26.png\n",
      "Image saved to /Users/arjunmoorthy/Desktop/annotated_imgs/Prostate-MRI-US-Biopsy-0002_26.png\n",
      "Image saved to /Users/arjunmoorthy/Desktop/annotated_imgs/Prostate-MRI-US-Biopsy-0002_34.png\n",
      "Image saved to /Users/arjunmoorthy/Desktop/annotated_imgs/Prostate-MRI-US-Biopsy-0002_27.png\n",
      "Image saved to /Users/arjunmoorthy/Desktop/annotated_imgs/Prostate-MRI-US-Biopsy-0002_25.png\n",
      "Image saved to /Users/arjunmoorthy/Desktop/annotated_imgs/Prostate-MRI-US-Biopsy-0002_25.png\n",
      "Image saved to /Users/arjunmoorthy/Desktop/annotated_imgs/Prostate-MRI-US-Biopsy-0003_41.png\n",
      "Image saved to /Users/arjunmoorthy/Desktop/annotated_imgs/Prostate-MRI-US-Biopsy-0003_32.png\n",
      "Image saved to /Users/arjunmoorthy/Desktop/annotated_imgs/Prostate-MRI-US-Biopsy-0003_43.png\n",
      "Image saved to /Users/arjunmoorthy/Desktop/annotated_imgs/Prostate-MRI-US-Biopsy-0003_33.png\n",
      "Image saved to /Users/arjunmoorthy/Desktop/annotated_imgs/Prostate-MRI-US-Biopsy-0003_40.png\n",
      "Image saved to /Users/arjunmoorthy/Desktop/annotated_imgs/Prostate-MRI-US-Biopsy-0003_31.png\n"
     ]
    }
   ],
   "source": [
    "annotated_imgs = '/Users/arjunmoorthy/Desktop/annotated_imgs'\n",
    "\n",
    "for tag_data, images in data_new.items():\n",
    "    for image_info in images:\n",
    "        img_array = image_info['arr_img']  # The processed image array\n",
    "        output_path = os.path.join(annotated_imgs, f\"{tag_data}.png\")  # Define your output path and filename\n",
    "        cv2.imwrite(output_path, img_array)  # Save the image to disk\n",
    "        print(f\"Image saved to {output_path}\")"
   ]
  }
 ],
 "metadata": {
  "kernelspec": {
   "display_name": "base",
   "language": "python",
   "name": "python3"
  },
  "language_info": {
   "codemirror_mode": {
    "name": "ipython",
    "version": 3
   },
   "file_extension": ".py",
   "mimetype": "text/x-python",
   "name": "python",
   "nbconvert_exporter": "python",
   "pygments_lexer": "ipython3",
   "version": "3.11.5"
  }
 },
 "nbformat": 4,
 "nbformat_minor": 2
}
