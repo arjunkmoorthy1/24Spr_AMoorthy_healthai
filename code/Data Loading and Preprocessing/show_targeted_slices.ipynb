{
 "cells": [
  {
   "cell_type": "code",
   "execution_count": 2,
   "metadata": {},
   "outputs": [],
   "source": [
    "import os\n",
    "import pydicom\n",
    "from matplotlib import pyplot as plt\n"
   ]
  },
  {
   "cell_type": "code",
   "execution_count": null,
   "metadata": {},
   "outputs": [],
   "source": [
    "def show_dicom_images(directory):\n",
    "    # Loop through all files with dicom extension\n",
    "    for filename in os.listdir(directory):\n",
    "        if filename.endswith('.dcm'):\n",
    "            file_path = os.path.join(directory, filename)\n",
    "            dicom_data = pydicom.dcmread(file_path)\n",
    "            image = dicom_data.pixel_array\n",
    "            plt.imshow(image, cmap=plt.cm.gray)\n",
    "            plt.title(filename)\n",
    "            plt.show()\n",
    "            input(\"Press Enter to proceed to the next image\")\n",
    "\n",
    "directory_path = '/bigdata'\n",
    "show_dicom_images(directory_path)"
   ]
  },
  {
   "cell_type": "code",
   "execution_count": null,
   "metadata": {},
   "outputs": [],
   "source": [
    "import pydicom\n",
    "\n",
    "def find_dicom_dimensions(file_path):\n",
    "    dicom_data = pydicom.dcmread(file_path)\n",
    "\n",
    "    # Access the pixel data\n",
    "    image = dicom_data.pixel_array\n",
    "    \n",
    "    # Get the dimensions\n",
    "    dimensions = image.shape\n",
    "    \n",
    "    # Return the in rows, columns\n",
    "    return dimensions[0], dimensions[1]\n",
    "\n",
    "file_path = '/bigdata'\n",
    "rows, columns = find_dicom_dimensions(file_path)\n",
    "print(f\"The DICOM image has {rows} rows (Y-axis) and {columns} columns (X-axis).\")\n"
   ]
  }
 ],
 "metadata": {
  "kernelspec": {
   "display_name": "base",
   "language": "python",
   "name": "python3"
  },
  "language_info": {
   "codemirror_mode": {
    "name": "ipython",
    "version": 3
   },
   "file_extension": ".py",
   "mimetype": "text/x-python",
   "name": "python",
   "nbconvert_exporter": "python",
   "pygments_lexer": "ipython3",
   "version": "3.9.12"
  }
 },
 "nbformat": 4,
 "nbformat_minor": 2
}
