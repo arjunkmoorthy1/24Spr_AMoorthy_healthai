{
 "cells": [
  {
   "cell_type": "code",
   "execution_count": 3,
   "metadata": {},
   "outputs": [],
   "source": [
    "import pydicom\n",
    "import matplotlib.pyplot as plt\n",
    "import os\n",
    "import nibabel as nib\n",
    "import numpy as np\n",
    "import pandas as pd\n",
    "import cv2\n",
    "import pickle"
   ]
  },
  {
   "cell_type": "code",
   "execution_count": 4,
   "metadata": {},
   "outputs": [],
   "source": [
    "#path to the dicom input folder\n",
    "dicom_folder_path = '/Users/arjunmoorthy/Desktop/targeted_bx_dicoms/targeted_bx_slices/'"
   ]
  },
  {
   "cell_type": "code",
   "execution_count": 5,
   "metadata": {},
   "outputs": [],
   "source": [
    "# Initialize an empty list to store the dictionaries containing the DICOM paths and data\n",
    "dicoms = []\n",
    "\n",
    "# Walk through all subdirectories and files in dicom_folder_path\n",
    "for dirpath, dirnames, filenames in os.walk(dicom_folder_path):\n",
    "    for filename in filenames:\n",
    "        # Construct the full path for each file\n",
    "        file_path = os.path.join(dirpath, filename)\n",
    "        # Attempt to read the DICOM file\n",
    "        try:\n",
    "            dicom = pydicom.dcmread(file_path, force=True)\n",
    "            # Check if 'InstanceNumber' is in the DICOM tags\n",
    "            if 'InstanceNumber' in dicom:\n",
    "                # Append the dictionary with path and dicom data to the list\n",
    "                dicoms.append({'path': file_path, 'dicom': dicom})\n",
    "        except Exception as e:\n",
    "            # Handle cases where the file might not be a readable DICOM file\n",
    "            print(f\"Error reading {file_path}: {e}\")"
   ]
  },
  {
   "cell_type": "code",
   "execution_count": 7,
   "metadata": {},
   "outputs": [],
   "source": [
    "# Sort the dicom based on the instance number\n",
    "dicoms = sorted(dicoms, key=lambda x: x['dicom'].InstanceNumber)"
   ]
  },
  {
   "cell_type": "code",
   "execution_count": 8,
   "metadata": {},
   "outputs": [],
   "source": [
    "# Function to remove duplicate slices\n",
    "def remove_duplicate_slices(dicoms):\n",
    "    dicoms_dict = {}\n",
    "    filtered_dicoms = []\n",
    "    if 'ImageOrientationPatient' not in dicoms[0]['dicom']:\n",
    "        return dicoms\n",
    "    for dicom in dicoms:\n",
    "        if tuple(dicom['dicom'].ImagePositionPatient) not in dicoms_dict:\n",
    "            dicoms_dict[tuple(dicom['dicom'].ImagePositionPatient)] = dicom['dicom']\n",
    "            filtered_dicoms.append(dicom)\n",
    "        else:\n",
    "            if np.array_equal(dicom['dicom'].pixel_array, dicoms_dict[tuple(dicom['dicom'].ImagePositionPatient)].pixel_array): continue\n",
    "            else:\n",
    "                filtered_dicoms.append(dicom)\n",
    "    return filtered_dicoms"
   ]
  },
  {
   "cell_type": "code",
   "execution_count": 9,
   "metadata": {},
   "outputs": [
    {
     "name": "stdout",
     "output_type": "stream",
     "text": [
      "before removing duplicates:  30\n",
      "after removing duplicates 30\n"
     ]
    }
   ],
   "source": [
    "print('before removing duplicates: ', len(dicoms))\n",
    "sorted_dicoms = remove_duplicate_slices(dicoms)\n",
    "print('after removing duplicates', len(dicoms))"
   ]
  },
  {
   "cell_type": "code",
   "execution_count": 11,
   "metadata": {},
   "outputs": [
    {
     "data": {
      "text/plain": [
       "[('/Users/arjunmoorthy/Desktop/targeted_bx_dicoms/targeted_bx_slices/Prostate-MRI-US-Biopsy-0001/1-20.dcm',\n",
       "  [-107.93213844258, -66.044486999928, -46.381074011326],\n",
       "  -46.381074011326,\n",
       "  20),\n",
       " ('/Users/arjunmoorthy/Desktop/targeted_bx_dicoms/targeted_bx_slices/Prostate-MRI-US-Biopsy-0001/1-23.dcm',\n",
       "  [-107.93213844258, -66.044486999928, -41.881074011326],\n",
       "  -41.881074011326,\n",
       "  23),\n",
       " ('/Users/arjunmoorthy/Desktop/targeted_bx_dicoms/targeted_bx_slices/Prostate-MRI-US-Biopsy-0001/1-24.dcm',\n",
       "  [-107.93213844258, -66.044486999928, -40.381074011326],\n",
       "  -40.381074011326,\n",
       "  24),\n",
       " ('/Users/arjunmoorthy/Desktop/targeted_bx_dicoms/targeted_bx_slices/Prostate-MRI-US-Biopsy-0012/1-26.dcm',\n",
       "  [-85, -44.334438323975, -20.243975907564],\n",
       "  -20.243975907564,\n",
       "  26),\n",
       " ('/Users/arjunmoorthy/Desktop/targeted_bx_dicoms/targeted_bx_slices/Prostate-MRI-US-Biopsy-0012/1-27.dcm',\n",
       "  [-85, -44.334438323975, -18.743975907564],\n",
       "  -18.743975907564,\n",
       "  27),\n",
       " ('/Users/arjunmoorthy/Desktop/targeted_bx_dicoms/targeted_bx_slices/Prostate-MRI-US-Biopsy-0012/1-28.dcm',\n",
       "  [-85, -44.334438323975, -17.243975907564],\n",
       "  -17.243975907564,\n",
       "  28),\n",
       " ('/Users/arjunmoorthy/Desktop/targeted_bx_dicoms/targeted_bx_slices/Prostate-MRI-US-Biopsy-0012/1-29.dcm',\n",
       "  [-85, -44.334438323975, -15.743975907564],\n",
       "  -15.743975907564,\n",
       "  29),\n",
       " ('/Users/arjunmoorthy/Desktop/targeted_bx_dicoms/targeted_bx_slices/Prostate-MRI-US-Biopsy-0012/1-30.dcm',\n",
       "  [-85, -44.334438323975, -14.243975907564],\n",
       "  -14.243975907564,\n",
       "  30),\n",
       " ('/Users/arjunmoorthy/Desktop/targeted_bx_dicoms/targeted_bx_slices/Prostate-MRI-US-Biopsy-0002/1-30.dcm',\n",
       "  [-108.29675708642, -83.837272763252, 13.324367832047],\n",
       "  13.324367832047,\n",
       "  30),\n",
       " ('/Users/arjunmoorthy/Desktop/targeted_bx_dicoms/targeted_bx_slices/Prostate-MRI-US-Biopsy-0012/1-31.dcm',\n",
       "  [-85, -44.334438323975, -12.743975907564],\n",
       "  -12.743975907564,\n",
       "  31),\n",
       " ('/Users/arjunmoorthy/Desktop/targeted_bx_dicoms/targeted_bx_slices/Prostate-MRI-US-Biopsy-0001/1-31.dcm',\n",
       "  [-107.93213844258, -66.044486999928, -29.881074011326],\n",
       "  -29.881074011326,\n",
       "  31),\n",
       " ('/Users/arjunmoorthy/Desktop/targeted_bx_dicoms/targeted_bx_slices/Prostate-MRI-US-Biopsy-0012/1-32.dcm',\n",
       "  [-85, -44.334438323975, -11.243975907564],\n",
       "  -11.243975907564,\n",
       "  32),\n",
       " ('/Users/arjunmoorthy/Desktop/targeted_bx_dicoms/targeted_bx_slices/Prostate-MRI-US-Biopsy-0005/1-32.dcm',\n",
       "  [-67.566585558205, -55.944309217185, 11.935230016708],\n",
       "  11.935230016708,\n",
       "  32),\n",
       " ('/Users/arjunmoorthy/Desktop/targeted_bx_dicoms/targeted_bx_slices/Prostate-MRI-US-Biopsy-0012/1-33.dcm',\n",
       "  [-85, -44.334438323975, -9.7439759075642],\n",
       "  -9.7439759075642,\n",
       "  33),\n",
       " ('/Users/arjunmoorthy/Desktop/targeted_bx_dicoms/targeted_bx_slices/Prostate-MRI-US-Biopsy-0012/1-34.dcm',\n",
       "  [-85, -44.334438323975, -8.2439759075642],\n",
       "  -8.2439759075642,\n",
       "  34),\n",
       " ('/Users/arjunmoorthy/Desktop/targeted_bx_dicoms/targeted_bx_slices/Prostate-MRI-US-Biopsy-0002/1-34.dcm',\n",
       "  [-108.19204264831, -83.837272763252, 19.323454002994],\n",
       "  19.323454002994,\n",
       "  34),\n",
       " ('/Users/arjunmoorthy/Desktop/targeted_bx_dicoms/targeted_bx_slices/Prostate-MRI-US-Biopsy-0001/1-35.dcm',\n",
       "  [-107.93213844258, -66.044486999928, -23.881074011326],\n",
       "  -23.881074011326,\n",
       "  35),\n",
       " ('/Users/arjunmoorthy/Desktop/targeted_bx_dicoms/targeted_bx_slices/Prostate-MRI-US-Biopsy-0005/1-35.dcm',\n",
       "  [-67.566585558205, -55.944309217185, 16.435230016708],\n",
       "  16.435230016708,\n",
       "  35),\n",
       " ('/Users/arjunmoorthy/Desktop/targeted_bx_dicoms/targeted_bx_slices/Prostate-MRI-US-Biopsy-0002/1-35.dcm',\n",
       "  [-108.16586403878, -83.837272763252, 20.823225545731],\n",
       "  20.823225545731,\n",
       "  35),\n",
       " ('/Users/arjunmoorthy/Desktop/targeted_bx_dicoms/targeted_bx_slices/Prostate-MRI-US-Biopsy-0012/1-36.dcm',\n",
       "  [-85, -44.334438323975, -5.2439759075642],\n",
       "  -5.2439759075642,\n",
       "  36),\n",
       " ('/Users/arjunmoorthy/Desktop/targeted_bx_dicoms/targeted_bx_slices/Prostate-MRI-US-Biopsy-0005/1-36.dcm',\n",
       "  [-67.566585558205, -55.944309217185, 17.935230016708],\n",
       "  17.935230016708,\n",
       "  36),\n",
       " ('/Users/arjunmoorthy/Desktop/targeted_bx_dicoms/targeted_bx_slices/Prostate-MRI-US-Biopsy-0002/1-36.dcm',\n",
       "  [-108.13968542925, -83.837272763252, 22.322997088468],\n",
       "  22.322997088468,\n",
       "  36),\n",
       " ('/Users/arjunmoorthy/Desktop/targeted_bx_dicoms/targeted_bx_slices/Prostate-MRI-US-Biopsy-0002/1-37.dcm',\n",
       "  [-108.11350681972, -83.837272763252, 23.822768631205],\n",
       "  23.822768631205,\n",
       "  37),\n",
       " ('/Users/arjunmoorthy/Desktop/targeted_bx_dicoms/targeted_bx_slices/Prostate-MRI-US-Biopsy-0005/1-38.dcm',\n",
       "  [-67.566585558205, -55.944309217185, 20.935230016708],\n",
       "  20.935230016708,\n",
       "  38),\n",
       " ('/Users/arjunmoorthy/Desktop/targeted_bx_dicoms/targeted_bx_slices/Prostate-MRI-US-Biopsy-0005/1-40.dcm',\n",
       "  [-67.566585558205, -55.944309217185, 23.935230016708],\n",
       "  23.935230016708,\n",
       "  40),\n",
       " ('/Users/arjunmoorthy/Desktop/targeted_bx_dicoms/targeted_bx_slices/Prostate-MRI-US-Biopsy-0003/1-40.dcm',\n",
       "  [-95.126301765442, -67.127658843994, 80.257481113076],\n",
       "  80.257481113076,\n",
       "  40),\n",
       " ('/Users/arjunmoorthy/Desktop/targeted_bx_dicoms/targeted_bx_slices/Prostate-MRI-US-Biopsy-0003/1-41.dcm',\n",
       "  [-95.126301765442, -67.127658843994, 81.757481113076],\n",
       "  81.757481113076,\n",
       "  41),\n",
       " ('/Users/arjunmoorthy/Desktop/targeted_bx_dicoms/targeted_bx_slices/Prostate-MRI-US-Biopsy-0005/1-43.dcm',\n",
       "  [-67.566585558205, -55.944309217185, 28.435230016708],\n",
       "  28.435230016708,\n",
       "  43),\n",
       " ('/Users/arjunmoorthy/Desktop/targeted_bx_dicoms/targeted_bx_slices/Prostate-MRI-US-Biopsy-0002/1-43.dcm',\n",
       "  [-107.95643516254, -83.837272763252, 32.821397887625],\n",
       "  32.821397887625,\n",
       "  43),\n",
       " ('/Users/arjunmoorthy/Desktop/targeted_bx_dicoms/targeted_bx_slices/Prostate-MRI-US-Biopsy-0003/1-43.dcm',\n",
       "  [-95.126301765442, -67.127658843994, 84.757481113076],\n",
       "  84.757481113076,\n",
       "  43)]"
      ]
     },
     "execution_count": 11,
     "metadata": {},
     "output_type": "execute_result"
    }
   ],
   "source": [
    "# Create a new list in which the dicom image path, patient position and their slice locations are saved\n",
    "data_dicom = []\n",
    "for d in sorted_dicoms:\n",
    "    data_dicom.append((d['path'],d['dicom']['ImagePositionPatient'].value,float(d['dicom']['ImagePositionPatient'].value[-1]),int(d['dicom']['InstanceNumber'].value)))\n",
    "data_dicom"
   ]
  },
  {
   "cell_type": "code",
   "execution_count": null,
   "metadata": {},
   "outputs": [],
   "source": [
    "with open('patientxydictinfo.pkl', 'rb') as file:\n",
    "    # Load the object from the file\n",
    "    my_object = pickle.load(file)"
   ]
  }
 ],
 "metadata": {
  "kernelspec": {
   "display_name": "base",
   "language": "python",
   "name": "python3"
  },
  "language_info": {
   "codemirror_mode": {
    "name": "ipython",
    "version": 3
   },
   "file_extension": ".py",
   "mimetype": "text/x-python",
   "name": "python",
   "nbconvert_exporter": "python",
   "pygments_lexer": "ipython3",
   "version": "3.11.5"
  }
 },
 "nbformat": 4,
 "nbformat_minor": 2
}
