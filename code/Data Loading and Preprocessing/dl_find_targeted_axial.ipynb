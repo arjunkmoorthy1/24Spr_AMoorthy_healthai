{
 "cells": [
  {
   "cell_type": "code",
   "execution_count": 18,
   "metadata": {},
   "outputs": [],
   "source": [
    "import os\n",
    "import shutil\n",
    "import pandas as pd"
   ]
  },
  {
   "cell_type": "code",
   "execution_count": 19,
   "metadata": {},
   "outputs": [],
   "source": [
    "# Path to the directory where all patients' folders are stored\n",
    "source_directory = '/Users/arjunmoorthy/Desktop/test_patients_first5'\n",
    "\n",
    "# Path to the directory where the new structure will be created\n",
    "destination_directory = '/Users/arjunmoorthy/Desktop'"
   ]
  },
  {
   "cell_type": "code",
   "execution_count": 20,
   "metadata": {},
   "outputs": [
    {
     "name": "stdout",
     "output_type": "stream",
     "text": [
      "Process completed. All 't2' folders have been recursively copied to the new directory.\n"
     ]
    }
   ],
   "source": [
    "# Here, we only want t2axial patients for analysis\n",
    "\n",
    "# Ensure the destination directory exists\n",
    "os.makedirs(destination_directory, exist_ok=True)\n",
    "\n",
    "# Walk through all subdirectories in the source directory\n",
    "for root, dirs, files in os.walk(source_directory):\n",
    "    for dir_name in dirs:\n",
    "        if 't2' in dir_name.lower():  \n",
    "            # Full path to the current 't2' folder\n",
    "            t2_folder_path = os.path.join(root, dir_name)\n",
    "            \n",
    "            # Constructing the relative path of this folder relative to the source directory - maintaining same folder structure\n",
    "            relative_path = os.path.relpath(t2_folder_path, source_directory)\n",
    "            \n",
    "            # Create the corresponding path in the destination directory\n",
    "            dest_path = os.path.join(destination_directory, relative_path)\n",
    "            \n",
    "            # Ensure the destination path exists\n",
    "            if not os.path.exists(dest_path):\n",
    "                os.makedirs(dest_path)\n",
    "            \n",
    "            # Copy the 't2' folder to the new location\n",
    "            for item in os.listdir(t2_folder_path):\n",
    "                s = os.path.join(t2_folder_path, item)\n",
    "                d = os.path.join(dest_path, item)\n",
    "                if os.path.isdir(s):\n",
    "                    shutil.copytree(s, d, dirs_exist_ok=True)\n",
    "                else:\n",
    "                    shutil.copy2(s, d)\n",
    "\n",
    "print(\"Process completed. All 't2' folders have been recursively copied to the new directory.\")\n"
   ]
  },
  {
   "cell_type": "code",
   "execution_count": 21,
   "metadata": {},
   "outputs": [
    {
     "name": "stdout",
     "output_type": "stream",
     "text": [
      "Filtered DataFrame contains patients with targeted biopsies.\n"
     ]
    }
   ],
   "source": [
    "biopsy_data_path = '/Users/arjunmoorthy/Desktop/Research Capstone/TCIA Biopsy Data_2020-07-14.xlsx'\n",
    "\n",
    "# Read the Excel file\n",
    "df = pd.read_excel(biopsy_data_path)\n",
    "\n",
    "# Filter for only targeted biopsies\n",
    "targeted_biopsy_df = df[df['Core Label'] == 'TARGET OR PRIOR POSITIVE']\n",
    "save_path = '/Users/arjunmoorthy/Desktop/Research Capstone/targeted_biopsy_patients.xlsx'\n",
    "\n",
    "# Save file to specified path\n",
    "targeted_biopsy_df.to_excel(save_path, index=False)\n",
    "\n",
    "print(\"Filtered DataFrame contains patients with targeted biopsies.\")"
   ]
  },
  {
   "cell_type": "code",
   "execution_count": 22,
   "metadata": {},
   "outputs": [],
   "source": [
    "# Extract unique patient IDs from the filtered DataFrame\n",
    "targeted_patient_ids = patient_ids = targeted_biopsy_df['Patient Number'].unique()"
   ]
  },
  {
   "cell_type": "code",
   "execution_count": 24,
   "metadata": {},
   "outputs": [
    {
     "name": "stdout",
     "output_type": "stream",
     "text": [
      "Targeted biopsy folder created.\n"
     ]
    }
   ],
   "source": [
    "# Path to the directory where patient DICOM folders are stored\n",
    "patient_dicom_directory = '/Users/arjunmoorthy/Desktop/patientdicoms'\n",
    "\n",
    "# Path to the directory where targeted bx patient folders will be\n",
    "matched_patients_directory = '/Users/arjunmoorthy/Desktop/targeted_bx_dicoms'\n",
    "os.makedirs(matched_patients_directory, exist_ok=True)\n",
    "\n",
    "# List all folders in the patientdicoms directory\n",
    "patient_folders = [folder for folder in os.listdir(patient_dicom_directory) if os.path.isdir(os.path.join(patient_dicom_directory, folder))]\n",
    "\n",
    "# Initialize a list to keep track of matched patient folders\n",
    "matched_folders = []\n",
    "\n",
    "# Check each patient folder to see if it matches any of the patient IDs\n",
    "for folder in patient_folders:\n",
    "    if folder in patient_ids:\n",
    "        matched_folders.append(folder)\n",
    "        source_folder_path = os.path.join(patient_dicom_directory, folder)\n",
    "        destination_folder_path = os.path.join(matched_patients_directory, folder)\n",
    "        \n",
    "        # Copy the matched folder to the new directory\n",
    "        shutil.copytree(source_folder_path, destination_folder_path, dirs_exist_ok=True)\n",
    "\n",
    "print(\"Targeted biopsy folder created.\")"
   ]
  }
 ],
 "metadata": {
  "kernelspec": {
   "display_name": "base",
   "language": "python",
   "name": "python3"
  },
  "language_info": {
   "codemirror_mode": {
    "name": "ipython",
    "version": 3
   },
   "file_extension": ".py",
   "mimetype": "text/x-python",
   "name": "python",
   "nbconvert_exporter": "python",
   "pygments_lexer": "ipython3",
   "version": "3.11.5"
  }
 },
 "nbformat": 4,
 "nbformat_minor": 2
}
