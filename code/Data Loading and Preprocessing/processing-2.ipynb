{
 "cells": [
  {
   "cell_type": "code",
   "execution_count": null,
   "metadata": {},
   "outputs": [],
   "source": [
    "import os\n",
    "import shutil"
   ]
  },
  {
   "cell_type": "code",
   "execution_count": null,
   "metadata": {},
   "outputs": [],
   "source": [
    "# Base directories\n",
    "patient_data_dir = \"/Users/arjunmoorthy/Desktop/Research Capstone/Image Data/MRI-US-PatientImages\"\n",
    "overlay_data_dir = \"/Users/arjunmoorthy/Desktop/Research Capstone/Image Data/Prostate-MRI-US-Biopsy_Overlays\""
   ]
  },
  {
   "cell_type": "code",
   "execution_count": null,
   "metadata": {},
   "outputs": [],
   "source": [
    "# Code given and edited from ChatGPT to better organize data \n",
    "# Loop through overlay folders and organize them into the patient folders\n",
    "for overlay_folder in os.listdir(overlay_data_dir):\n",
    "    # Extract patient identifier from the overlay folder name\n",
    "    # Adjust the slicing as necessary based on your naming convention\n",
    "    patient_id = overlay_folder.split('-')[3]  # e.g., '0001' from 'Prostate-MRI-US-Biopsy-0001-...'\n",
    "    patient_folder_name = f\"Patient_{patient_id}\"\n",
    "\n",
    "    # Determine the target directory for the overlay data\n",
    "    target_dir = os.path.join(patient_data_dir, patient_folder_name, \"Overlays\")\n",
    "\n",
    "    # Create the target directory if it doesn't exist\n",
    "    if not os.path.exists(target_dir):\n",
    "        os.makedirs(target_dir)\n",
    "    \n",
    "    # Construct source and destination paths\n",
    "    source_path = os.path.join(overlay_data_dir, overlay_folder)\n",
    "    destination_path = os.path.join(target_dir, overlay_folder)\n",
    "\n",
    "    # Copy (or move) the overlay folder to the target directory\n",
    "    shutil.copytree(source_path, destination_path)  # Use shutil.move for moving instead of copying\n",
    "\n",
    "print(\"Overlay data reorganization complete.\")"
   ]
  }
 ],
 "metadata": {
  "language_info": {
   "name": "python"
  }
 },
 "nbformat": 4,
 "nbformat_minor": 2
}
