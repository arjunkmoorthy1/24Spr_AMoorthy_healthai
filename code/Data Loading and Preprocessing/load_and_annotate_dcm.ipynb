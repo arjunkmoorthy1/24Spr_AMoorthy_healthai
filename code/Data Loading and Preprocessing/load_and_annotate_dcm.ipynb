{
 "cells": [
  {
   "cell_type": "code",
   "execution_count": 1,
   "metadata": {},
   "outputs": [],
   "source": [
    "import os\n",
    "import shutil"
   ]
  },
  {
   "cell_type": "code",
   "execution_count": 2,
   "metadata": {},
   "outputs": [],
   "source": [
    "# Define the source directory where to search for files\n",
    "source_directory = '/Users/arjunmoorthy/Desktop/Research Capstone/Image Data/Prostate-MRI-US-Biopsy_Overlays'"
   ]
  },
  {
   "cell_type": "code",
   "execution_count": 3,
   "metadata": {},
   "outputs": [],
   "source": [
    "# Define the destination directory where to copy the files\n",
    "destination_directory = '/Users/arjunmoorthy/Desktop/Research Capstone/Image Data'\n",
    "\n",
    "# Define the file extension you are interested in\n",
    "file_extension = '.mrml'  # Example for .mrml files"
   ]
  },
  {
   "cell_type": "code",
   "execution_count": null,
   "metadata": {},
   "outputs": [],
   "source": [
    "# Function to copy .mrml files and maintain the directory structure\n",
    "def copy_mrml_files(source, destination, extension):\n",
    "    # Create the destination directory if it doesn't exist\n",
    "    if not os.path.exists(destination_directory):\n",
    "        os.makedirs(destination_directory)\n",
    "\n",
    "    # Loop through the files in the source directory\n",
    "    for root, dirs, files in os.walk(source):\n",
    "        for file in files:\n",
    "            if file.endswith(extension):\n",
    "                # Construct the path of the file in the source directory\n",
    "                source_file_path = os.path.join(root, file) \n",
    "\n",
    "                # Construct the relative path of the file based on the source directory\n",
    "                relative_path = os.path.relpath(root, source)\n",
    "\n",
    "                # Construct the destination directory path for the current file\n",
    "                destination_dir_path = os.path.join(destination, relative_path)\n",
    "\n",
    "                 # Create the destination directory if it doesn't exist\n",
    "                if not os.path.exists(destination_dir_path):\n",
    "                    os.makedirs(destination_dir_path)\n",
    "\n",
    "                # Construct the destination file path\n",
    "                destination_file_path = os.path.join(destination_dir_path, file)\n",
    "\n",
    "                # Copy the file to the destination directory\n",
    "                shutil.copy(source_file_path, destination_file_path)\n",
    "                print(f'Copied {file} to {destination_file_path}')\n",
    "\n",
    "# Call the function to start copying .mrml files\n",
    "copy_mrml_files(source_directory, destination_directory, file_extension)"
   ]
  }
 ],
 "metadata": {
  "kernelspec": {
   "display_name": "Python 3",
   "language": "python",
   "name": "python3"
  },
  "language_info": {
   "codemirror_mode": {
    "name": "ipython",
    "version": 3
   },
   "file_extension": ".py",
   "mimetype": "text/x-python",
   "name": "python",
   "nbconvert_exporter": "python",
   "pygments_lexer": "ipython3",
   "version": "3.9.6"
  }
 },
 "nbformat": 4,
 "nbformat_minor": 2
}
