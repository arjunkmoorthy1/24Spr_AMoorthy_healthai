{
 "cells": [
  {
   "cell_type": "code",
   "execution_count": 1,
   "metadata": {},
   "outputs": [],
   "source": [
    "import os\n",
    "import shutil\n",
    "import pandas as pd\n",
    "import pydicom\n",
    "from PIL import Image, ImageDraw\n",
    "import matplotlib.pyplot as plt\n",
    "import numpy as np\n",
    "import pickle"
   ]
  },
  {
   "cell_type": "code",
   "execution_count": 3,
   "metadata": {},
   "outputs": [],
   "source": [
    "import os\n",
    "import shutil\n",
    "\n",
    "# Define the original and new base directories\n",
    "original_base_dir = '/Users/arjunmoorthy/Desktop/t2axialimages/after_duplicate_tracts_removed'\n",
    "new_base_dir = '/Users/arjunmoorthy/Desktop/Research_Capstone/ImageData/new_train_data'\n",
    "\n",
    "# Walk through the directory structure of the original base directory\n",
    "for root, dirs, files in os.walk(original_base_dir):\n",
    "    for dir in dirs:\n",
    "        if 'biopsy' in dir:  # Check if the directory name contains 'biopsy'\n",
    "            # Determine if this biopsy is cancer or non-cancer\n",
    "            if 'non_cancer' in dir:\n",
    "                category = 'non_cancer'\n",
    "            elif 'cancer' in dir:\n",
    "                category = 'cancer'\n",
    "            else:\n",
    "                continue  # Skip if the folder does not match the criteria\n",
    "\n",
    "            # Current path of the biopsy folder\n",
    "            current_path = os.path.join(root, dir)\n",
    "            # Extract patient folder name based on the current structure\n",
    "            patient_folder = os.path.basename(os.path.normpath(root))\n",
    "            # New path for the biopsy folder in the new structure\n",
    "            new_path = os.path.join(new_base_dir, category, patient_folder, dir)\n",
    "\n",
    "            # Create the new path if it does not exist\n",
    "            os.makedirs(os.path.dirname(new_path), exist_ok=True)\n",
    "            # Copy the biopsy folder to the new location\n",
    "            shutil.copytree(current_path, new_path)\n"
   ]
  },
  {
   "cell_type": "code",
   "execution_count": 4,
   "metadata": {},
   "outputs": [],
   "source": [
    "import os\n",
    "\n",
    "# Define the base directories for cancer and non_cancer patient folders\n",
    "base_dirs = {\n",
    "    'cancer': '/Users/arjunmoorthy/Desktop/Research_Capstone/ImageData/new_train_data/cancer',\n",
    "    'non_cancer': '/Users/arjunmoorthy/Desktop/Research_Capstone/ImageData/new_train_data/non_cancer'\n",
    "}\n",
    "\n",
    "# Process each category directory\n",
    "for category, base_dir in base_dirs.items():\n",
    "    # Walk through the directory structure of each category base directory\n",
    "    for patient_dir in os.listdir(base_dir):\n",
    "        patient_path = os.path.join(base_dir, patient_dir)\n",
    "        if os.path.isdir(patient_path):\n",
    "            # Maintain a dictionary to track seen DICOM files\n",
    "            seen_files = {}\n",
    "\n",
    "            # Iterate over each biopsy folder within a patient folder\n",
    "            for biopsy_dir in os.listdir(patient_path):\n",
    "                biopsy_path = os.path.join(patient_path, biopsy_dir)\n",
    "                if os.path.isdir(biopsy_path):\n",
    "                    # Check each file in the biopsy folder\n",
    "                    for file in os.listdir(biopsy_path):\n",
    "                        if file.endswith('.dcm'):  # Ensure the file is a DICOM file\n",
    "                            file_path = os.path.join(biopsy_path, file)\n",
    "\n",
    "                            # If the file has been seen before and exists, remove it\n",
    "                            if file in seen_files and os.path.exists(file_path):\n",
    "                                os.remove(file_path)\n",
    "                            else:\n",
    "                                # Otherwise, mark this file as seen\n",
    "                                seen_files[file] = True\n"
   ]
  },
  {
   "cell_type": "code",
   "execution_count": 5,
   "metadata": {},
   "outputs": [
    {
     "name": "stdout",
     "output_type": "stream",
     "text": [
      "Total .dcm files in cancer: 8844\n",
      "Total .dcm files in non_cancer: 5683\n"
     ]
    }
   ],
   "source": [
    "import os\n",
    "\n",
    "# Define the base directories for cancer and non_cancer patient folders\n",
    "base_dirs = {\n",
    "    'cancer': '/Users/arjunmoorthy/Desktop/Research_Capstone/ImageData/new_train_data/cancer',\n",
    "    'non_cancer': '/Users/arjunmoorthy/Desktop/Research_Capstone/ImageData/new_train_data/non_cancer'\n",
    "}\n",
    "\n",
    "# Initialize a dictionary to hold the count of DICOM files for each category\n",
    "dcm_count = {\n",
    "    'cancer': 0,\n",
    "    'non_cancer': 0\n",
    "}\n",
    "\n",
    "# Process each category directory\n",
    "for category, base_dir in base_dirs.items():\n",
    "    # Walk through the directory structure\n",
    "    for root, dirs, files in os.walk(base_dir):\n",
    "        # Increment count for each DICOM file found\n",
    "        for file in files:\n",
    "            if file.endswith('.dcm'):\n",
    "                dcm_count[category] += 1\n",
    "\n",
    "# Output the results\n",
    "for category, count in dcm_count.items():\n",
    "    print(f\"Total .dcm files in {category}: {count}\")\n"
   ]
  },
  {
   "cell_type": "code",
   "execution_count": null,
   "metadata": {},
   "outputs": [],
   "source": []
  }
 ],
 "metadata": {
  "kernelspec": {
   "display_name": "base",
   "language": "python",
   "name": "python3"
  },
  "language_info": {
   "codemirror_mode": {
    "name": "ipython",
    "version": 3
   },
   "file_extension": ".py",
   "mimetype": "text/x-python",
   "name": "python",
   "nbconvert_exporter": "python",
   "pygments_lexer": "ipython3",
   "version": "3.11.5"
  }
 },
 "nbformat": 4,
 "nbformat_minor": 2
}
