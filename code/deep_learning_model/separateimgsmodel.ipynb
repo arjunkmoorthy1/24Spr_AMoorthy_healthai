{
 "cells": [
  {
   "cell_type": "code",
   "execution_count": 1,
   "metadata": {},
   "outputs": [],
   "source": [
    "import pydicom\n",
    "import numpy as np\n",
    "import tensorflow as tf\n",
    "from tensorflow.keras.preprocessing.image import ImageDataGenerator\n",
    "from PIL import Image\n",
    "import os\n",
    "from tensorflow.keras.metrics import Precision, Recall, AUC\n",
    "from sklearn.model_selection import train_test_split"
   ]
  },
  {
   "cell_type": "code",
   "execution_count": 2,
   "metadata": {},
   "outputs": [],
   "source": [
    "def load_dicom_image(path, img_size=256):\n",
    "    # Load dicom and convert to 256x256 RGB image\n",
    "    dicom = pydicom.dcmread(path)\n",
    "    image = dicom.pixel_array\n",
    "    image = Image.fromarray(image).convert('RGB')\n",
    "    image = image.resize((img_size, img_size))\n",
    "    return np.array(image) / 255.0\n",
    "\n",
    "    # Convert to TensorFlow tensor\n",
    "    return tf.convert_to_tensor(image, dtype=tf.float32)"
   ]
  },
  {
   "cell_type": "code",
   "execution_count": 17,
   "metadata": {},
   "outputs": [],
   "source": [
    "def process_directory(directory_path, label, img_size=256):\n",
    "    images, labels = [], []\n",
    "    for root, dirs, files in os.walk(directory_path):\n",
    "        for filename in files:\n",
    "            # Check if the file is a DICOM file\n",
    "            if filename.endswith('.dcm'):\n",
    "                # Construct the full path to the DICOM file\n",
    "                file_path = os.path.join(root, filename)\n",
    "                # Load and process the image\n",
    "                image = load_dicom_image(file_path, img_size=img_size)\n",
    "                # Append the processed image and its label to the lists\n",
    "                images.append(image)\n",
    "                labels.append(label)\n",
    "    return images, labels\n"
   ]
  },
  {
   "cell_type": "code",
   "execution_count": 18,
   "metadata": {},
   "outputs": [],
   "source": [
    "# Adjusted handling for tensors when creating datasets\n",
    "def create_datasets(cancer_dir, non_cancer_dir, img_size=256, batch_size=32, val_split=0.2):\n",
    "    cancer_images, cancer_labels = process_directory(cancer_dir, 1, img_size=img_size)\n",
    "    non_cancer_images, non_cancer_labels = process_directory(non_cancer_dir, 0, img_size=img_size)\n",
    "    \n",
    "    # Combine images and labels\n",
    "    all_images = cancer_images + non_cancer_images\n",
    "    all_labels = cancer_labels + non_cancer_labels\n",
    "    \n",
    "    # Convert labels to tensors\n",
    "    all_labels = tf.convert_to_tensor(all_labels, dtype=tf.float32)\n",
    "    \n",
    "    # Create a dataset directly from tensors\n",
    "    dataset = tf.data.Dataset.from_tensor_slices((all_images, all_labels))\n",
    "    dataset = dataset.shuffle(buffer_size=len(all_images))\n",
    "    \n",
    "    # Split into training and validation datasets\n",
    "    val_size = int(len(all_images) * val_split)\n",
    "    val_dataset = dataset.take(val_size)\n",
    "    train_dataset = dataset.skip(val_size)\n",
    "    \n",
    "    # Batch the datasets\n",
    "    train_dataset = train_dataset.batch(batch_size)\n",
    "    val_dataset = val_dataset.batch(batch_size)\n",
    "    \n",
    "    return train_dataset, val_dataset"
   ]
  },
  {
   "cell_type": "code",
   "execution_count": 19,
   "metadata": {},
   "outputs": [],
   "source": [
    "from tensorflow.keras.applications import ResNet50\n",
    "from tensorflow.keras.layers import GlobalAveragePooling2D, Dense, Dropout\n",
    "from tensorflow.keras.models import Sequential\n",
    "from tensorflow.keras.regularizers import l2\n",
    "\n",
    "def build_model_with_resnet(input_shape=(256, 256, 3), dropout_rate=0.5, l2_reg=0.001):\n",
    "    base_model = ResNet50(input_shape=input_shape,\n",
    "                          include_top=False,\n",
    "                          weights='imagenet')\n",
    "    base_model.trainable = False  \n",
    "\n",
    "    model = Sequential([\n",
    "        base_model,\n",
    "        GlobalAveragePooling2D(),\n",
    "        Dropout(dropout_rate),\n",
    "        Dense(1, activation='sigmoid', kernel_regularizer=l2(l2_reg))\n",
    "    ])\n",
    "    \n",
    "    model.compile(optimizer='adam',\n",
    "                  loss='binary_crossentropy',\n",
    "                  metrics=['accuracy'])\n",
    "    \n",
    "    return model\n"
   ]
  },
  {
   "cell_type": "code",
   "execution_count": 20,
   "metadata": {},
   "outputs": [],
   "source": [
    "# train_dataset = create_dataset('/Users/arjunmoorthy/Desktop/Research_Capstone/Image Data/CapstoneData', img_size=256, batch_size=32)\n",
    "\n",
    "train_dataset, val_dataset = create_datasets(\n",
    "    cancer_dir='/Users/arjunmoorthy/Desktop/Research_Capstone/ImageData/CapstoneData/cancer',\n",
    "    non_cancer_dir='/Users/arjunmoorthy/Desktop/Research_Capstone/ImageData/CapstoneData/non_cancer',\n",
    "    img_size=256,  \n",
    "    batch_size=32,  \n",
    "    val_split=0.2   \n",
    ")\n"
   ]
  },
  {
   "cell_type": "code",
   "execution_count": 21,
   "metadata": {},
   "outputs": [
    {
     "name": "stderr",
     "output_type": "stream",
     "text": [
      "2024-03-30 17:13:02.664550: W tensorflow/core/framework/local_rendezvous.cc:404] Local rendezvous is aborting with status: OUT_OF_RANGE: End of sequence\n"
     ]
    },
    {
     "name": "stdout",
     "output_type": "stream",
     "text": [
      "Actual number of images in training dataset: 5088\n",
      "Actual number of images in validation dataset: 1271\n"
     ]
    },
    {
     "name": "stderr",
     "output_type": "stream",
     "text": [
      "2024-03-30 17:13:03.459416: W tensorflow/core/framework/local_rendezvous.cc:404] Local rendezvous is aborting with status: OUT_OF_RANGE: End of sequence\n"
     ]
    }
   ],
   "source": [
    "def count_images_in_dataset(dataset):\n",
    "    count = 0\n",
    "    for images, _ in dataset:\n",
    "        count += images.shape[0]  # Add the number of images in the batch\n",
    "    return count\n",
    "\n",
    "# Count the actual number of images\n",
    "actual_train_images = count_images_in_dataset(train_dataset)\n",
    "actual_val_images = count_images_in_dataset(val_dataset)\n",
    "\n",
    "print(f\"Actual number of images in training dataset: {actual_train_images}\")\n",
    "print(f\"Actual number of images in validation dataset: {actual_val_images}\")"
   ]
  },
  {
   "cell_type": "code",
   "execution_count": 22,
   "metadata": {},
   "outputs": [],
   "source": [
    "model = build_model_with_resnet()\n",
    "\n",
    "model.compile(optimizer='adam',\n",
    "              loss='binary_crossentropy',  # Or another appropriate loss function\n",
    "              metrics=['accuracy', Precision(name='precision'), Recall(name='recall'), AUC(name='auc')])"
   ]
  },
  {
   "cell_type": "code",
   "execution_count": 23,
   "metadata": {},
   "outputs": [
    {
     "name": "stdout",
     "output_type": "stream",
     "text": [
      "Epoch 1/50\n"
     ]
    },
    {
     "name": "stderr",
     "output_type": "stream",
     "text": [
      "2024-03-30 17:13:20.900117: I tensorflow/core/grappler/optimizers/custom_graph_optimizer_registry.cc:117] Plugin optimizer for device_type GPU is enabled.\n"
     ]
    },
    {
     "name": "stdout",
     "output_type": "stream",
     "text": [
      "\u001b[1m159/159\u001b[0m \u001b[32m━━━━━━━━━━━━━━━━━━━━\u001b[0m\u001b[37m\u001b[0m \u001b[1m24s\u001b[0m 133ms/step - accuracy: 0.5939 - auc: 0.5398 - loss: 0.7185 - precision: 0.4243 - recall: 0.2757 - val_accuracy: 0.7585 - val_auc: 0.6841 - val_loss: 0.5644 - val_precision: 1.0000 - val_recall: 0.3312\n",
      "Epoch 2/50\n",
      "\u001b[1m159/159\u001b[0m \u001b[32m━━━━━━━━━━━━━━━━━━━━\u001b[0m\u001b[37m\u001b[0m \u001b[1m18s\u001b[0m 114ms/step - accuracy: 0.7076 - auc: 0.6610 - loss: 0.5854 - precision: 0.7494 - recall: 0.3585 - val_accuracy: 0.7553 - val_auc: 0.6857 - val_loss: 0.5433 - val_precision: 1.0000 - val_recall: 0.3165\n",
      "Epoch 3/50\n",
      "\u001b[1m159/159\u001b[0m \u001b[32m━━━━━━━━━━━━━━━━━━━━\u001b[0m\u001b[37m\u001b[0m \u001b[1m18s\u001b[0m 114ms/step - accuracy: 0.7387 - auc: 0.6921 - loss: 0.5537 - precision: 0.9257 - recall: 0.3451 - val_accuracy: 0.7498 - val_auc: 0.6902 - val_loss: 0.5481 - val_precision: 1.0000 - val_recall: 0.3389\n",
      "Epoch 4/50\n",
      "\u001b[1m159/159\u001b[0m \u001b[32m━━━━━━━━━━━━━━━━━━━━\u001b[0m\u001b[37m\u001b[0m \u001b[1m18s\u001b[0m 114ms/step - accuracy: 0.7422 - auc: 0.6746 - loss: 0.5594 - precision: 0.9452 - recall: 0.3416 - val_accuracy: 0.7514 - val_auc: 0.6887 - val_loss: 0.5367 - val_precision: 1.0000 - val_recall: 0.3262\n",
      "Epoch 5/50\n",
      "\u001b[1m159/159\u001b[0m \u001b[32m━━━━━━━━━━━━━━━━━━━━\u001b[0m\u001b[37m\u001b[0m \u001b[1m18s\u001b[0m 114ms/step - accuracy: 0.7426 - auc: 0.6976 - loss: 0.5456 - precision: 0.9510 - recall: 0.3475 - val_accuracy: 0.7624 - val_auc: 0.6834 - val_loss: 0.5320 - val_precision: 1.0000 - val_recall: 0.3406\n",
      "Epoch 6/50\n",
      "\u001b[1m159/159\u001b[0m \u001b[32m━━━━━━━━━━━━━━━━━━━━\u001b[0m\u001b[37m\u001b[0m \u001b[1m18s\u001b[0m 114ms/step - accuracy: 0.7425 - auc: 0.6785 - loss: 0.5547 - precision: 0.8824 - recall: 0.3578 - val_accuracy: 0.7435 - val_auc: 0.6872 - val_loss: 0.5393 - val_precision: 1.0000 - val_recall: 0.3401\n",
      "Epoch 7/50\n",
      "\u001b[1m159/159\u001b[0m \u001b[32m━━━━━━━━━━━━━━━━━━━━\u001b[0m\u001b[37m\u001b[0m \u001b[1m18s\u001b[0m 115ms/step - accuracy: 0.7524 - auc: 0.6763 - loss: 0.5442 - precision: 0.9892 - recall: 0.3475 - val_accuracy: 0.7459 - val_auc: 0.6876 - val_loss: 0.5377 - val_precision: 1.0000 - val_recall: 0.3340\n",
      "Epoch 8/50\n",
      "\u001b[1m159/159\u001b[0m \u001b[32m━━━━━━━━━━━━━━━━━━━━\u001b[0m\u001b[37m\u001b[0m \u001b[1m39s\u001b[0m 246ms/step - accuracy: 0.7495 - auc: 0.6820 - loss: 0.5441 - precision: 0.9717 - recall: 0.3571 - val_accuracy: 0.7522 - val_auc: 0.6732 - val_loss: 0.5388 - val_precision: 1.0000 - val_recall: 0.3137\n",
      "Epoch 9/50\n",
      "\u001b[1m159/159\u001b[0m \u001b[32m━━━━━━━━━━━━━━━━━━━━\u001b[0m\u001b[37m\u001b[0m \u001b[1m18s\u001b[0m 114ms/step - accuracy: 0.7405 - auc: 0.6644 - loss: 0.5598 - precision: 0.9510 - recall: 0.3428 - val_accuracy: 0.7411 - val_auc: 0.6836 - val_loss: 0.5444 - val_precision: 1.0000 - val_recall: 0.3327\n",
      "Epoch 10/50\n",
      "\u001b[1m159/159\u001b[0m \u001b[32m━━━━━━━━━━━━━━━━━━━━\u001b[0m\u001b[37m\u001b[0m \u001b[1m18s\u001b[0m 116ms/step - accuracy: 0.7377 - auc: 0.6653 - loss: 0.5587 - precision: 0.8951 - recall: 0.3416 - val_accuracy: 0.7537 - val_auc: 0.6780 - val_loss: 0.5365 - val_precision: 1.0000 - val_recall: 0.3369\n",
      "Epoch 11/50\n",
      "\u001b[1m159/159\u001b[0m \u001b[32m━━━━━━━━━━━━━━━━━━━━\u001b[0m\u001b[37m\u001b[0m \u001b[1m19s\u001b[0m 119ms/step - accuracy: 0.7446 - auc: 0.6690 - loss: 0.5525 - precision: 0.9724 - recall: 0.3305 - val_accuracy: 0.7703 - val_auc: 0.6901 - val_loss: 0.5189 - val_precision: 1.0000 - val_recall: 0.3582\n",
      "Epoch 12/50\n",
      "\u001b[1m159/159\u001b[0m \u001b[32m━━━━━━━━━━━━━━━━━━━━\u001b[0m\u001b[37m\u001b[0m \u001b[1m19s\u001b[0m 122ms/step - accuracy: 0.7440 - auc: 0.6711 - loss: 0.5501 - precision: 0.9614 - recall: 0.3528 - val_accuracy: 0.7498 - val_auc: 0.6810 - val_loss: 0.5353 - val_precision: 1.0000 - val_recall: 0.3347\n",
      "Epoch 13/50\n",
      "\u001b[1m159/159\u001b[0m \u001b[32m━━━━━━━━━━━━━━━━━━━━\u001b[0m\u001b[37m\u001b[0m \u001b[1m20s\u001b[0m 126ms/step - accuracy: 0.7524 - auc: 0.6742 - loss: 0.5443 - precision: 0.9735 - recall: 0.3570 - val_accuracy: 0.7278 - val_auc: 0.6743 - val_loss: 0.5529 - val_precision: 1.0000 - val_recall: 0.3108\n",
      "Epoch 14/50\n",
      "\u001b[1m159/159\u001b[0m \u001b[32m━━━━━━━━━━━━━━━━━━━━\u001b[0m\u001b[37m\u001b[0m \u001b[1m20s\u001b[0m 127ms/step - accuracy: 0.7461 - auc: 0.6676 - loss: 0.5509 - precision: 0.9678 - recall: 0.3553 - val_accuracy: 0.7671 - val_auc: 0.6821 - val_loss: 0.5224 - val_precision: 1.0000 - val_recall: 0.3466\n",
      "Epoch 15/50\n",
      "\u001b[1m159/159\u001b[0m \u001b[32m━━━━━━━━━━━━━━━━━━━━\u001b[0m\u001b[37m\u001b[0m \u001b[1m20s\u001b[0m 125ms/step - accuracy: 0.7508 - auc: 0.6771 - loss: 0.5520 - precision: 0.9578 - recall: 0.3600 - val_accuracy: 0.7467 - val_auc: 0.6803 - val_loss: 0.5434 - val_precision: 1.0000 - val_recall: 0.3402\n",
      "Epoch 16/50\n",
      "\u001b[1m159/159\u001b[0m \u001b[32m━━━━━━━━━━━━━━━━━━━━\u001b[0m\u001b[37m\u001b[0m \u001b[1m19s\u001b[0m 122ms/step - accuracy: 0.7509 - auc: 0.6874 - loss: 0.5413 - precision: 0.9743 - recall: 0.3492 - val_accuracy: 0.7530 - val_auc: 0.6978 - val_loss: 0.5353 - val_precision: 1.0000 - val_recall: 0.3631\n",
      "Epoch 17/50\n",
      "\u001b[1m159/159\u001b[0m \u001b[32m━━━━━━━━━━━━━━━━━━━━\u001b[0m\u001b[37m\u001b[0m \u001b[1m19s\u001b[0m 121ms/step - accuracy: 0.7474 - auc: 0.6755 - loss: 0.5470 - precision: 0.9717 - recall: 0.3553 - val_accuracy: 0.7427 - val_auc: 0.6828 - val_loss: 0.5415 - val_precision: 1.0000 - val_recall: 0.3394\n",
      "Epoch 18/50\n",
      "\u001b[1m159/159\u001b[0m \u001b[32m━━━━━━━━━━━━━━━━━━━━\u001b[0m\u001b[37m\u001b[0m \u001b[1m19s\u001b[0m 119ms/step - accuracy: 0.7526 - auc: 0.6903 - loss: 0.5395 - precision: 0.9858 - recall: 0.3565 - val_accuracy: 0.7388 - val_auc: 0.6694 - val_loss: 0.5447 - val_precision: 1.0000 - val_recall: 0.3183\n",
      "Epoch 19/50\n",
      "\u001b[1m159/159\u001b[0m \u001b[32m━━━━━━━━━━━━━━━━━━━━\u001b[0m\u001b[37m\u001b[0m \u001b[1m19s\u001b[0m 118ms/step - accuracy: 0.7470 - auc: 0.6781 - loss: 0.5462 - precision: 0.9876 - recall: 0.3556 - val_accuracy: 0.7490 - val_auc: 0.6798 - val_loss: 0.5362 - val_precision: 1.0000 - val_recall: 0.3368\n",
      "Epoch 20/50\n",
      "\u001b[1m159/159\u001b[0m \u001b[32m━━━━━━━━━━━━━━━━━━━━\u001b[0m\u001b[37m\u001b[0m \u001b[1m19s\u001b[0m 118ms/step - accuracy: 0.7446 - auc: 0.6841 - loss: 0.5465 - precision: 0.9676 - recall: 0.3447 - val_accuracy: 0.7396 - val_auc: 0.6860 - val_loss: 0.5524 - val_precision: 1.0000 - val_recall: 0.3380\n",
      "Epoch 21/50\n",
      "\u001b[1m159/159\u001b[0m \u001b[32m━━━━━━━━━━━━━━━━━━━━\u001b[0m\u001b[37m\u001b[0m \u001b[1m19s\u001b[0m 118ms/step - accuracy: 0.7384 - auc: 0.6816 - loss: 0.5537 - precision: 0.9337 - recall: 0.3461 - val_accuracy: 0.7514 - val_auc: 0.6838 - val_loss: 0.5322 - val_precision: 1.0000 - val_recall: 0.3361\n",
      "Epoch 22/50\n",
      "\u001b[1m159/159\u001b[0m \u001b[32m━━━━━━━━━━━━━━━━━━━━\u001b[0m\u001b[37m\u001b[0m \u001b[1m19s\u001b[0m 118ms/step - accuracy: 0.7520 - auc: 0.6797 - loss: 0.5447 - precision: 0.9725 - recall: 0.3522 - val_accuracy: 0.7640 - val_auc: 0.6952 - val_loss: 0.5369 - val_precision: 1.0000 - val_recall: 0.3737\n",
      "Epoch 23/50\n",
      "\u001b[1m159/159\u001b[0m \u001b[32m━━━━━━━━━━━━━━━━━━━━\u001b[0m\u001b[37m\u001b[0m \u001b[1m19s\u001b[0m 118ms/step - accuracy: 0.7543 - auc: 0.6860 - loss: 0.5399 - precision: 0.9400 - recall: 0.3595 - val_accuracy: 0.7608 - val_auc: 0.6957 - val_loss: 0.5313 - val_precision: 1.0000 - val_recall: 0.3706\n",
      "Epoch 24/50\n",
      "\u001b[1m159/159\u001b[0m \u001b[32m━━━━━━━━━━━━━━━━━━━━\u001b[0m\u001b[37m\u001b[0m \u001b[1m19s\u001b[0m 119ms/step - accuracy: 0.7481 - auc: 0.6776 - loss: 0.5461 - precision: 0.9299 - recall: 0.3675 - val_accuracy: 0.7490 - val_auc: 0.6886 - val_loss: 0.5366 - val_precision: 1.0000 - val_recall: 0.3529\n",
      "Epoch 25/50\n",
      "\u001b[1m159/159\u001b[0m \u001b[32m━━━━━━━━━━━━━━━━━━━━\u001b[0m\u001b[37m\u001b[0m \u001b[1m19s\u001b[0m 119ms/step - accuracy: 0.7579 - auc: 0.6741 - loss: 0.5406 - precision: 0.9768 - recall: 0.3438 - val_accuracy: 0.7522 - val_auc: 0.6822 - val_loss: 0.5419 - val_precision: 1.0000 - val_recall: 0.3478\n",
      "Epoch 26/50\n",
      "\u001b[1m159/159\u001b[0m \u001b[32m━━━━━━━━━━━━━━━━━━━━\u001b[0m\u001b[37m\u001b[0m \u001b[1m19s\u001b[0m 119ms/step - accuracy: 0.7457 - auc: 0.6785 - loss: 0.5470 - precision: 0.9329 - recall: 0.3613 - val_accuracy: 0.7695 - val_auc: 0.6948 - val_loss: 0.5290 - val_precision: 1.0000 - val_recall: 0.3658\n",
      "Epoch 27/50\n",
      "\u001b[1m159/159\u001b[0m \u001b[32m━━━━━━━━━━━━━━━━━━━━\u001b[0m\u001b[37m\u001b[0m \u001b[1m19s\u001b[0m 119ms/step - accuracy: 0.7420 - auc: 0.6843 - loss: 0.5502 - precision: 0.9135 - recall: 0.3631 - val_accuracy: 0.7301 - val_auc: 0.6707 - val_loss: 0.5601 - val_precision: 1.0000 - val_recall: 0.3154\n",
      "Epoch 28/50\n",
      "\u001b[1m159/159\u001b[0m \u001b[32m━━━━━━━━━━━━━━━━━━━━\u001b[0m\u001b[37m\u001b[0m \u001b[1m19s\u001b[0m 119ms/step - accuracy: 0.7532 - auc: 0.6780 - loss: 0.5439 - precision: 0.9694 - recall: 0.3548 - val_accuracy: 0.7726 - val_auc: 0.6972 - val_loss: 0.5245 - val_precision: 1.0000 - val_recall: 0.3772\n",
      "Epoch 29/50\n",
      "\u001b[1m159/159\u001b[0m \u001b[32m━━━━━━━━━━━━━━━━━━━━\u001b[0m\u001b[37m\u001b[0m \u001b[1m19s\u001b[0m 118ms/step - accuracy: 0.7466 - auc: 0.6572 - loss: 0.5553 - precision: 0.9726 - recall: 0.3440 - val_accuracy: 0.7561 - val_auc: 0.6932 - val_loss: 0.5234 - val_precision: 1.0000 - val_recall: 0.3595\n",
      "Epoch 30/50\n",
      "\u001b[1m159/159\u001b[0m \u001b[32m━━━━━━━━━━━━━━━━━━━━\u001b[0m\u001b[37m\u001b[0m \u001b[1m19s\u001b[0m 118ms/step - accuracy: 0.7574 - auc: 0.6975 - loss: 0.5348 - precision: 0.9935 - recall: 0.3592 - val_accuracy: 0.7443 - val_auc: 0.6652 - val_loss: 0.5504 - val_precision: 1.0000 - val_recall: 0.3070\n",
      "Epoch 31/50\n",
      "\u001b[1m159/159\u001b[0m \u001b[32m━━━━━━━━━━━━━━━━━━━━\u001b[0m\u001b[37m\u001b[0m \u001b[1m19s\u001b[0m 118ms/step - accuracy: 0.7509 - auc: 0.6628 - loss: 0.5521 - precision: 0.9914 - recall: 0.3271 - val_accuracy: 0.7545 - val_auc: 0.6838 - val_loss: 0.5354 - val_precision: 1.0000 - val_recall: 0.3593\n",
      "Epoch 32/50\n",
      "\u001b[1m159/159\u001b[0m \u001b[32m━━━━━━━━━━━━━━━━━━━━\u001b[0m\u001b[37m\u001b[0m \u001b[1m19s\u001b[0m 118ms/step - accuracy: 0.7447 - auc: 0.6751 - loss: 0.5507 - precision: 0.9425 - recall: 0.3575 - val_accuracy: 0.7742 - val_auc: 0.6971 - val_loss: 0.5380 - val_precision: 1.0000 - val_recall: 0.3678\n",
      "Epoch 33/50\n",
      "\u001b[1m159/159\u001b[0m \u001b[32m━━━━━━━━━━━━━━━━━━━━\u001b[0m\u001b[37m\u001b[0m \u001b[1m19s\u001b[0m 118ms/step - accuracy: 0.7517 - auc: 0.6737 - loss: 0.5480 - precision: 0.9402 - recall: 0.3414 - val_accuracy: 0.7742 - val_auc: 0.7028 - val_loss: 0.5231 - val_precision: 1.0000 - val_recall: 0.3841\n",
      "Epoch 34/50\n",
      "\u001b[1m159/159\u001b[0m \u001b[32m━━━━━━━━━━━━━━━━━━━━\u001b[0m\u001b[37m\u001b[0m \u001b[1m19s\u001b[0m 117ms/step - accuracy: 0.7507 - auc: 0.6705 - loss: 0.5483 - precision: 0.9728 - recall: 0.3548 - val_accuracy: 0.7506 - val_auc: 0.6789 - val_loss: 0.5394 - val_precision: 1.0000 - val_recall: 0.3368\n",
      "Epoch 35/50\n",
      "\u001b[1m159/159\u001b[0m \u001b[32m━━━━━━━━━━━━━━━━━━━━\u001b[0m\u001b[37m\u001b[0m \u001b[1m19s\u001b[0m 118ms/step - accuracy: 0.7605 - auc: 0.6809 - loss: 0.5381 - precision: 0.9585 - recall: 0.3745 - val_accuracy: 0.7648 - val_auc: 0.6971 - val_loss: 0.5227 - val_precision: 1.0000 - val_recall: 0.3732\n",
      "Epoch 36/50\n",
      "\u001b[1m159/159\u001b[0m \u001b[32m━━━━━━━━━━━━━━━━━━━━\u001b[0m\u001b[37m\u001b[0m \u001b[1m19s\u001b[0m 117ms/step - accuracy: 0.7554 - auc: 0.6926 - loss: 0.5380 - precision: 0.9804 - recall: 0.3610 - val_accuracy: 0.7490 - val_auc: 0.6845 - val_loss: 0.5363 - val_precision: 1.0000 - val_recall: 0.3423\n",
      "Epoch 37/50\n",
      "\u001b[1m159/159\u001b[0m \u001b[32m━━━━━━━━━━━━━━━━━━━━\u001b[0m\u001b[37m\u001b[0m \u001b[1m19s\u001b[0m 117ms/step - accuracy: 0.7407 - auc: 0.6772 - loss: 0.5518 - precision: 0.9665 - recall: 0.3345 - val_accuracy: 0.7293 - val_auc: 0.6712 - val_loss: 0.5538 - val_precision: 1.0000 - val_recall: 0.3268\n",
      "Epoch 38/50\n",
      "\u001b[1m159/159\u001b[0m \u001b[32m━━━━━━━━━━━━━━━━━━━━\u001b[0m\u001b[37m\u001b[0m \u001b[1m19s\u001b[0m 117ms/step - accuracy: 0.7507 - auc: 0.6813 - loss: 0.5449 - precision: 0.9888 - recall: 0.3513 - val_accuracy: 0.7467 - val_auc: 0.6892 - val_loss: 0.5358 - val_precision: 1.0000 - val_recall: 0.3415\n",
      "Epoch 39/50\n",
      "\u001b[1m159/159\u001b[0m \u001b[32m━━━━━━━━━━━━━━━━━━━━\u001b[0m\u001b[37m\u001b[0m \u001b[1m19s\u001b[0m 117ms/step - accuracy: 0.7479 - auc: 0.6643 - loss: 0.5494 - precision: 0.9678 - recall: 0.3357 - val_accuracy: 0.7459 - val_auc: 0.6734 - val_loss: 0.5406 - val_precision: 1.0000 - val_recall: 0.3171\n",
      "Epoch 40/50\n",
      "\u001b[1m159/159\u001b[0m \u001b[32m━━━━━━━━━━━━━━━━━━━━\u001b[0m\u001b[37m\u001b[0m \u001b[1m18s\u001b[0m 116ms/step - accuracy: 0.7367 - auc: 0.6693 - loss: 0.5566 - precision: 0.9531 - recall: 0.3324 - val_accuracy: 0.7561 - val_auc: 0.6843 - val_loss: 0.5310 - val_precision: 1.0000 - val_recall: 0.3432\n",
      "Epoch 41/50\n",
      "\u001b[1m159/159\u001b[0m \u001b[32m━━━━━━━━━━━━━━━━━━━━\u001b[0m\u001b[37m\u001b[0m \u001b[1m18s\u001b[0m 116ms/step - accuracy: 0.7532 - auc: 0.6834 - loss: 0.5431 - precision: 0.9681 - recall: 0.3426 - val_accuracy: 0.7726 - val_auc: 0.7009 - val_loss: 0.5158 - val_precision: 1.0000 - val_recall: 0.3758\n",
      "Epoch 42/50\n",
      "\u001b[1m159/159\u001b[0m \u001b[32m━━━━━━━━━━━━━━━━━━━━\u001b[0m\u001b[37m\u001b[0m \u001b[1m18s\u001b[0m 116ms/step - accuracy: 0.7500 - auc: 0.6847 - loss: 0.5429 - precision: 0.9777 - recall: 0.3520 - val_accuracy: 0.7789 - val_auc: 0.6915 - val_loss: 0.5078 - val_precision: 1.0000 - val_recall: 0.3555\n",
      "Epoch 43/50\n",
      "\u001b[1m159/159\u001b[0m \u001b[32m━━━━━━━━━━━━━━━━━━━━\u001b[0m\u001b[37m\u001b[0m \u001b[1m18s\u001b[0m 116ms/step - accuracy: 0.7539 - auc: 0.6855 - loss: 0.5405 - precision: 0.9624 - recall: 0.3582 - val_accuracy: 0.7632 - val_auc: 0.7019 - val_loss: 0.5172 - val_precision: 1.0000 - val_recall: 0.3768\n",
      "Epoch 44/50\n",
      "\u001b[1m159/159\u001b[0m \u001b[32m━━━━━━━━━━━━━━━━━━━━\u001b[0m\u001b[37m\u001b[0m \u001b[1m18s\u001b[0m 116ms/step - accuracy: 0.7597 - auc: 0.6931 - loss: 0.5365 - precision: 0.9643 - recall: 0.3768 - val_accuracy: 0.7585 - val_auc: 0.6843 - val_loss: 0.5282 - val_precision: 1.0000 - val_recall: 0.3223\n",
      "Epoch 45/50\n",
      "\u001b[1m159/159\u001b[0m \u001b[32m━━━━━━━━━━━━━━━━━━━━\u001b[0m\u001b[37m\u001b[0m \u001b[1m18s\u001b[0m 116ms/step - accuracy: 0.7397 - auc: 0.6717 - loss: 0.5532 - precision: 0.9502 - recall: 0.3513 - val_accuracy: 0.7380 - val_auc: 0.6808 - val_loss: 0.5623 - val_precision: 1.0000 - val_recall: 0.3273\n",
      "Epoch 46/50\n",
      "\u001b[1m159/159\u001b[0m \u001b[32m━━━━━━━━━━━━━━━━━━━━\u001b[0m\u001b[37m\u001b[0m \u001b[1m18s\u001b[0m 115ms/step - accuracy: 0.7558 - auc: 0.6759 - loss: 0.5417 - precision: 0.9846 - recall: 0.3605 - val_accuracy: 0.7506 - val_auc: 0.6970 - val_loss: 0.5334 - val_precision: 1.0000 - val_recall: 0.3723\n",
      "Epoch 47/50\n",
      "\u001b[1m159/159\u001b[0m \u001b[32m━━━━━━━━━━━━━━━━━━━━\u001b[0m\u001b[37m\u001b[0m \u001b[1m18s\u001b[0m 115ms/step - accuracy: 0.7426 - auc: 0.6757 - loss: 0.5506 - precision: 0.9790 - recall: 0.3401 - val_accuracy: 0.7482 - val_auc: 0.6800 - val_loss: 0.5388 - val_precision: 1.0000 - val_recall: 0.3263\n",
      "Epoch 48/50\n",
      "\u001b[1m159/159\u001b[0m \u001b[32m━━━━━━━━━━━━━━━━━━━━\u001b[0m\u001b[37m\u001b[0m \u001b[1m18s\u001b[0m 115ms/step - accuracy: 0.7461 - auc: 0.6606 - loss: 0.5526 - precision: 0.9745 - recall: 0.3185 - val_accuracy: 0.7742 - val_auc: 0.6881 - val_loss: 0.5237 - val_precision: 1.0000 - val_recall: 0.3536\n",
      "Epoch 49/50\n",
      "\u001b[1m159/159\u001b[0m \u001b[32m━━━━━━━━━━━━━━━━━━━━\u001b[0m\u001b[37m\u001b[0m \u001b[1m18s\u001b[0m 115ms/step - accuracy: 0.7442 - auc: 0.6758 - loss: 0.5511 - precision: 0.9508 - recall: 0.3391 - val_accuracy: 0.7718 - val_auc: 0.6721 - val_loss: 0.5197 - val_precision: 1.0000 - val_recall: 0.3208\n",
      "Epoch 50/50\n",
      "\u001b[1m159/159\u001b[0m \u001b[32m━━━━━━━━━━━━━━━━━━━━\u001b[0m\u001b[37m\u001b[0m \u001b[1m18s\u001b[0m 115ms/step - accuracy: 0.7508 - auc: 0.6641 - loss: 0.5499 - precision: 0.9626 - recall: 0.3293 - val_accuracy: 0.7349 - val_auc: 0.6711 - val_loss: 0.5509 - val_precision: 1.0000 - val_recall: 0.3178\n"
     ]
    }
   ],
   "source": [
    "history = model.fit(train_dataset,\n",
    "                    epochs=50,\n",
    "                    validation_data=val_dataset) "
   ]
  },
  {
   "cell_type": "code",
   "execution_count": null,
   "metadata": {},
   "outputs": [],
   "source": [
    "import matplotlib.pyplot as plt\n",
    "\n",
    "# Plot training & validation accuracy values\n",
    "plt.plot(history.history['accuracy'], label='Train Accuracy')\n",
    "plt.plot(history.history['val_accuracy'], label='Validation Accuracy')  \n",
    "plt.title('Model Accuracy')\n",
    "plt.ylabel('Accuracy')\n",
    "plt.xlabel('Epoch')\n",
    "plt.legend(loc='upper left')\n",
    "plt.show()\n",
    "\n",
    "# Plot training & validation AUC values\n",
    "plt.plot(history.history['auc'], label='Train AUC')\n",
    "plt.plot(history.history['val_auc'], label='Validation AUC')  \n",
    "plt.title('Model AUC')\n",
    "plt.ylabel('AUC')\n",
    "plt.xlabel('Epoch')\n",
    "plt.legend(loc='upper left')\n",
    "plt.show()\n",
    "\n",
    "# Plot training & validation loss values\n",
    "plt.plot(history.history['loss'], label='Train Loss')\n",
    "plt.plot(history.history['val_loss'], label='Validation Loss')  \n",
    "plt.title('Model Loss')\n",
    "plt.ylabel('Loss')\n",
    "plt.xlabel('Epoch')\n",
    "plt.legend(loc='upper left')\n",
    "plt.show()"
   ]
  }
 ],
 "metadata": {
  "kernelspec": {
   "display_name": "torch",
   "language": "python",
   "name": "python3"
  },
  "language_info": {
   "codemirror_mode": {
    "name": "ipython",
    "version": 3
   },
   "file_extension": ".py",
   "mimetype": "text/x-python",
   "name": "python",
   "nbconvert_exporter": "python",
   "pygments_lexer": "ipython3",
   "version": "3.11.8"
  }
 },
 "nbformat": 4,
 "nbformat_minor": 2
}
